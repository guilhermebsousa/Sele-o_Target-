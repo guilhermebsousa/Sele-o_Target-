{
 "cells": [
  {
   "cell_type": "markdown",
   "id": "bfd2f906",
   "metadata": {},
   "source": [
    "# Estágio Ribeirão Preto - 2024"
   ]
  },
  {
   "cell_type": "markdown",
   "id": "de9d4278",
   "metadata": {},
   "source": [
    "### **1) Observe o trecho de código abaixo:**\n",
    "\n",
    "int INDICE = 13, SOMA = 0, K = 0;\n",
    "\n",
    "enquanto K < INDICE faça\n",
    "\n",
    "{\n",
    "\n",
    "K = K + 1;\n",
    "\n",
    "SOMA = SOMA + K;\n",
    "\n",
    "}\n",
    "\n",
    "imprimir(SOMA);\n",
    "\n",
    "\n",
    "\n",
    "Ao final do processamento, qual será o valor da variável SOMA?"
   ]
  },
  {
   "cell_type": "code",
   "execution_count": 1,
   "id": "01e5b732",
   "metadata": {},
   "outputs": [
    {
     "name": "stdout",
     "output_type": "stream",
     "text": [
      "O resultado da soma é: 91\n"
     ]
    }
   ],
   "source": [
    "\n",
    "indice = 13\n",
    "soma = 0\n",
    "k = 0\n",
    "\n",
    "while(k<indice):\n",
    "    k+=1\n",
    "    soma+=k\n",
    "print(f'O resultado da soma é: {soma}')"
   ]
  },
  {
   "cell_type": "markdown",
   "id": "f42ddde3",
   "metadata": {},
   "source": [
    "**RESPOSTA** = 91"
   ]
  },
  {
   "cell_type": "markdown",
   "id": "d2d1c0b1",
   "metadata": {},
   "source": [
    "### **2) Dado a sequência de Fibonacci, onde se inicia por 0 e 1 e o próximo valor sempre será a soma dos 2 valores anteriores (exemplo: 0, 1, 1, 2, 3, 5, 8, 13, 21, 34...), escreva um programa na linguagem que desejar onde, informado um número, ele calcule a sequência de Fibonacci e retorne uma mensagem avisando se o número informado pertence ou não a sequência.**"
   ]
  },
  {
   "cell_type": "code",
   "execution_count": 17,
   "id": "a57db89d",
   "metadata": {},
   "outputs": [
    {
     "name": "stdout",
     "output_type": "stream",
     "text": [
      "Digite um número inteiro: 34\n",
      "O número 34 faz parte da sequência.\n"
     ]
    }
   ],
   "source": [
    "def is_fibo(num):\n",
    "  n1 = 0\n",
    "  n2 = 1\n",
    "  n3 = 0\n",
    "  while(n1<=num):\n",
    "      if (n1==num):\n",
    "          return True\n",
    "      n3 = n2\n",
    "      n2+=n1\n",
    "      n1 = n3\n",
    "  return False\n",
    "\n",
    "\n",
    "num_int = int(input(\"Digite um número inteiro: \"))\n",
    "\n",
    "if is_fibo(num_int) is True:\n",
    "  print(f\"O número {num_int} faz parte da sequência.\")\n",
    "else:\n",
    "  print(f\"O número {num_int} não faz parte da sequência.\")"
   ]
  },
  {
   "cell_type": "markdown",
   "id": "829ac900",
   "metadata": {},
   "source": [
    "### **3) Descubra a lógica e complete o próximo elemento:**\n",
    "\n",
    "\n",
    "\n",
    "a) 1, 3, 5, 7, ___\n",
    "\n",
    "b) 2, 4, 8, 16, 32, 64, ____\n",
    "\n",
    "c) 0, 1, 4, 9, 16, 25, 36, ____\n",
    "\n",
    "d) 4, 16, 36, 64, ____\n",
    "\n",
    "e) 1, 1, 2, 3, 5, 8, ____\n",
    "\n",
    "f) 2,10, 12, 16, 17, 18, 19, ____"
   ]
  },
  {
   "cell_type": "markdown",
   "id": "ca2d65e8",
   "metadata": {},
   "source": [
    "### Resposta"
   ]
  },
  {
   "cell_type": "markdown",
   "id": "cb81db60",
   "metadata": {},
   "source": [
    "a) Sequência de números primos - Próximo elemento = 11  \n",
    "b) Sequência das potências de 2(2²,2³,...) - Próximo elemento = 128  \n",
    "c) Sequência de adição por números impares - Próximo elemento = 49  \n",
    "d) Sequência das potências de 4(4²,4³,...) - Próximo elemento = 256 \n",
    "e) Sequência de Fibonacci - Próximo elemento = 13  \n",
    "f) Sequência de números que iniciam com a letra D - Próximo elemento = 200"
   ]
  },
  {
   "cell_type": "markdown",
   "id": "920d2971",
   "metadata": {},
   "source": [
    "### 4) Você está em uma sala com três interruptores, cada um conectado a uma lâmpada em uma sala diferente. Você não pode ver as lâmpadas da sala em que está, mas pode ligar e desligar os interruptores quantas vezes quiser. Seu objetivo é descobrir qual interruptor controla qual lâmpada.\n",
    "\n",
    "### Como você faria para descobrir, usando apenas duas idas até uma das salas das lâmpadas, qual interruptor controla cada lâmpada?\n"
   ]
  },
  {
   "cell_type": "markdown",
   "id": "26c6d498",
   "metadata": {},
   "source": [
    "  \n",
    "  \n",
    "### Resposta\n"
   ]
  },
  {
   "cell_type": "markdown",
   "id": "4c050df6",
   "metadata": {},
   "source": [
    "Eu ligaria o primeiro e o segundo interruptor e olharia para as lâmpadas da sala, depois desligaria segundo interruptor e ligaria o terceiro, e iria mais uma vez para a sala das lâmpadas, assim eu saberia qual controla qual."
   ]
  },
  {
   "cell_type": "markdown",
   "id": "7d4b7600",
   "metadata": {},
   "source": [
    "### 5) Escreva um programa que inverta os caracteres de um string.  \n",
    "  \n",
    "  \n",
    "### IMPORTANTE:  \n",
    "  \n",
    "### a) Essa string pode ser informada através de qualquer entrada de sua preferência ou pode ser previamente definida no código;  \n",
    "### b) Evite usar funções prontas, como, por exemplo, reverse;"
   ]
  },
  {
   "cell_type": "code",
   "execution_count": 28,
   "id": "4d0f48cc",
   "metadata": {},
   "outputs": [
    {
     "name": "stdout",
     "output_type": "stream",
     "text": [
      "Digite uma palavra: amigo\n",
      "String invertida: ogima"
     ]
    }
   ],
   "source": [
    "string1 = str(input(\"Digite uma palavra: \"))\n",
    " \n",
    "string1 = list(string1)\n",
    "inv_string1 = []\n",
    "for i in range ((len(string1)),0,-1):\n",
    "    inv_string1.append(string1[i-1])\n",
    "\n",
    "print(\"String invertida: \", end=\"\")\n",
    "for i in range(len(inv_string1)):\n",
    "    print(inv_string1[i],end=\"\")"
   ]
  }
 ],
 "metadata": {
  "kernelspec": {
   "display_name": "Python 3 (ipykernel)",
   "language": "python",
   "name": "python3"
  },
  "language_info": {
   "codemirror_mode": {
    "name": "ipython",
    "version": 3
   },
   "file_extension": ".py",
   "mimetype": "text/x-python",
   "name": "python",
   "nbconvert_exporter": "python",
   "pygments_lexer": "ipython3",
   "version": "3.11.5"
  }
 },
 "nbformat": 4,
 "nbformat_minor": 5
}
